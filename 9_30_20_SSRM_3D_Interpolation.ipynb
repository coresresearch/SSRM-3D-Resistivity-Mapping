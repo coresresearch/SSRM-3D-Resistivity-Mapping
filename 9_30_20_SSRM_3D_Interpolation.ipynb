{
 "cells": [
  {
   "cell_type": "markdown",
   "metadata": {},
   "source": [
    "# 3D interpretation SSRM data"
   ]
  },
  {
   "cell_type": "code",
   "execution_count": null,
   "metadata": {},
   "outputs": [],
   "source": [
    "import plotly as py\n",
    "import numpy as np\n",
    "import pandas as pd\n",
    "import matplotlib.pyplot as plt\n",
    "from scipy.interpolate import RegularGridInterpolator\n",
    "from scipy.interpolate import LinearNDInterpolator\n",
    "from mpl_toolkits.mplot3d import Axes3D\n",
    "import plotly.graph_objects as go\n",
    "from skimage.transform import resize"
   ]
  },
  {
   "cell_type": "code",
   "execution_count": null,
   "metadata": {},
   "outputs": [],
   "source": [
    "data_path = '___' #data folder location\n",
    "file_name = '____.xlsx' #SSRM raw dataset for interpolation"
   ]
  },
  {
   "cell_type": "code",
   "execution_count": null,
   "metadata": {},
   "outputs": [],
   "source": [
    "data_path+file_name"
   ]
  },
  {
   "cell_type": "code",
   "execution_count": null,
   "metadata": {},
   "outputs": [],
   "source": [
    "df = pd.read_excel(data_path+file_name)"
   ]
  },
  {
   "cell_type": "code",
   "execution_count": null,
   "metadata": {},
   "outputs": [],
   "source": [
    "df.head() #see excel file"
   ]
  },
  {
   "cell_type": "code",
   "execution_count": null,
   "metadata": {},
   "outputs": [],
   "source": [
    "inc = 1 # set increment between X and Y points, 1 for full adoption of all datapoints.\n",
    "Xv = df[\"X\"].values[::inc] #X value (nm) for scan size\n",
    "Yv = df[\"Y\"].values[::inc] #Y value (nm) for scan size\n",
    "Z0 = df[\"Z0\"].values[::inc] #Z value (nm) for first experimental scan\n",
    "Z1 = df[\"Z1\"].values[::inc] #Z value (nm) for second experimental scan\n",
    "Z2 = df[\"Z2\"].values[::inc] #Z value (nm) for third experimental scan\n",
    "Z3 = df[\"Z3\"].values[::inc] #Z value (nm) for fourth experimental scan\n",
    "Re0 = df[\"R3\"].values[::inc] #Resistivity value for first experimental scan\n",
    "Re1 = df[\"R2\"].values[::inc] #Resistivity value for second experimental scan\n",
    "Re2 = df[\"R1\"].values[::inc] #Resistivity value for third experimental scan\n",
    "Re3 = df[\"R0\"].values[::inc] #Resistivity value for fourth experimental scan"
   ]
  },
  {
   "cell_type": "code",
   "execution_count": null,
   "metadata": {},
   "outputs": [],
   "source": [
    "#See 2-D data layout prior to interpolation\n",
    "plt.figure(figsize=(20,20))\n",
    "plt.scatter(Xv, Yv)\n",
    "plt.xlim([0,127]) #for 128 x 128 data\n",
    "plt.ylim([0,127]) #for 128 x 128 data\n",
    "plt.grid()\n",
    "plt.show()"
   ]
  },
  {
   "cell_type": "code",
   "execution_count": null,
   "metadata": {},
   "outputs": [],
   "source": [
    "dx = 1 #interpolation x increment\n",
    "dy = 1 #interpolation y increment\n",
    "dz = 10 #interpolation z increment between experimental layers"
   ]
  },
  {
   "cell_type": "code",
   "execution_count": null,
   "metadata": {},
   "outputs": [],
   "source": [
    "#define terms prior to interpolation\n",
    "x_temp = Xv \n",
    "for i in range(3): \n",
    "    x = np.append(x_temp, Xv )\n",
    "    x_temp = x\n",
    "    \n",
    "y_temp = Yv \n",
    "for i in range(3): \n",
    "    y = np.append(y_temp, Yv )\n",
    "    y_temp = y\n",
    "    \n",
    "z_temp = Z0\n",
    "z_extras = [Z1, Z2, Z3]\n",
    "for z in z_extras: \n",
    "    z_data = np.append(z_temp, z)\n",
    "    z_temp = z_data\n",
    "    \n",
    "Re_temp = Re0\n",
    "Re_extras = [Re1, Re2, Re3]\n",
    "for Re in Re_extras: \n",
    "    Re_data = np.append(Re_temp, Re)\n",
    "    Re_temp = Re_data"
   ]
  },
  {
   "cell_type": "code",
   "execution_count": null,
   "metadata": {},
   "outputs": [],
   "source": [
    "# Create coordinate pairs\n",
    "cartcoord = list(zip(x, y, z_data))\n",
    "\n",
    "# create meshgrid\n",
    "X = np.arange(min(x), max(x)+dx, dx)\n",
    "Y = np.arange(min(y), max(y)+dy, dy)\n",
    "Z = np.arange(min(z_data), max(z_data)+dz, dz)\n",
    "X, Y, Z = np.meshgrid(X, Y, Z)"
   ]
  },
  {
   "cell_type": "code",
   "execution_count": null,
   "metadata": {},
   "outputs": [],
   "source": [
    "# interpolate depth values\n",
    "interp = LinearNDInterpolator(cartcoord, Re_data, fill_value=0)"
   ]
  },
  {
   "cell_type": "code",
   "execution_count": null,
   "metadata": {},
   "outputs": [],
   "source": [
    "Re_new = interp(X, Y, Z)"
   ]
  },
  {
   "cell_type": "code",
   "execution_count": null,
   "metadata": {},
   "outputs": [],
   "source": [
    "Re_new.shape #see size of interpolated dataset (x points, y points, z layers)"
   ]
  },
  {
   "cell_type": "code",
   "execution_count": null,
   "metadata": {},
   "outputs": [],
   "source": [
    "Re_new[:,:,0].shape"
   ]
  },
  {
   "cell_type": "code",
   "execution_count": null,
   "metadata": {
    "scrolled": false
   },
   "outputs": [],
   "source": [
    "#See experimental layers with those obtained via interpolation\n",
    "n_layers = Re_new.shape[2]\n",
    "plt.figure(figsize=(15, 15))\n",
    "for i in range(n_layers): \n",
    "    Re_layer = Re_new[:,:,i]\n",
    "    plt.subplot(5,5,i+1)\n",
    "    plt.pcolormesh(Re_layer)\n",
    "\n",
    "plt.tight_layout()\n",
    "#plt.colorbar()\n",
    "plt.show()"
   ]
  },
  {
   "cell_type": "code",
   "execution_count": null,
   "metadata": {},
   "outputs": [],
   "source": [
    "x_flat, y_flat, z_flat = X.flatten(), Y.flatten(), Z.flatten()\n",
    "Re_flat = Re_new.flatten()"
   ]
  },
  {
   "cell_type": "code",
   "execution_count": null,
   "metadata": {},
   "outputs": [],
   "source": [
    "use_cols = [0,4,6,8] #bring in experimental resistivity data for histogram generation\n",
    "data_cols = df.iloc[:,use_cols].values"
   ]
  },
  {
   "cell_type": "code",
   "execution_count": null,
   "metadata": {},
   "outputs": [],
   "source": [
    "vals = plt.hist(data_cols.reshape(-1,1),bins=60, range=[-9,3]) #produce histogram from raw resistivity data with range and #bins\n",
    "counts = vals[0]\n",
    "res    = vals[1]"
   ]
  },
  {
   "cell_type": "code",
   "execution_count": null,
   "metadata": {},
   "outputs": [],
   "source": [
    "for c in counts: \n",
    "    print(c) #print histogram data with given range and bins, for importation to graphical software"
   ]
  },
  {
   "cell_type": "code",
   "execution_count": null,
   "metadata": {
    "scrolled": true
   },
   "outputs": [],
   "source": [
    "vals = plt.hist([Re0,Re1,Re2,Re3],bins=60, range=[-9,3], stacked=True) #view stacked histogram from separate experimental layers"
   ]
  },
  {
   "cell_type": "code",
   "execution_count": null,
   "metadata": {},
   "outputs": [],
   "source": [
    "#Examine 3-D Volumes based on threshold values; color, threshold range, and aspect ratio readily adaptable to individual datasets\n",
    "layout = go.Layout(\n",
    "             scene=dict(\n",
    "                 aspectmode='data'\n",
    "         ))\n",
    "fig = go.Figure(data=go.Volume(\n",
    "    x=x_flat, y=y_flat, z=z_flat*0.35, #aspect ratio control\n",
    "    value=Re_flat,\n",
    "    opacity=0.45, #set opacity\n",
    "    isomin=-2.5, #set resistivity range for thresholding volumes, isomin=lower threshold\n",
    "    isomax=-1, #set resistivity range for thresholding volumes, isomax=upper threshold\n",
    "    #colorscale='Plasma',#use plasma if not thresholding volumes\n",
    "    #colorscale=[[0, 'rgb(127,8,165)'], [1, 'rgb(127,8,165)']], #Purple\n",
    "    colorscale=[[0, 'rgb(251,166,55)'], [1, 'rgb(251,166,55)']], #Gold\n",
    "    #colorscale=[[0, 'rgb(12,42,80)'], [1, 'rgb(12,42,80)']], #Blue\n",
    "    #colorscale=[[0, 'rgb(246,143,70)'], [1, 'rgb(246,143,70)']], #Orange\n",
    "    #colorscale=[[0, 'rgb(222,112,101)'], [1, 'rgb(222,112,101)']], #Pink\n",
    "    caps=dict(x_show=True, y_show=True),\n",
    "    surface_count=5,\n",
    "    ),layout=layout)\n",
    "fig.update_layout(scene_xaxis_showticklabels=False,\n",
    "                  scene_yaxis_showticklabels=False,\n",
    "                  scene_zaxis_showticklabels=False)\n",
    "fig.show()"
   ]
  },
  {
   "cell_type": "code",
   "execution_count": null,
   "metadata": {},
   "outputs": [],
   "source": [
    "#prepare layers for resistivity volume from experimental and interpolated layers\n",
    "Re_slices = []\n",
    "Re_slices_nan = []\n",
    "Re_Slices_Ca = []\n",
    "\n",
    "for i in range(Re_new.shape[2]): \n",
    "    Re_nan = Re_new[:,:,i]\n",
    "    Re_nan[Re_nan == 0] = np.nan   \n",
    "    Re_slices_nan.append(Re_nan)\n",
    "    Re_slices.append(Re_new[:,:,i])"
   ]
  },
  {
   "cell_type": "code",
   "execution_count": null,
   "metadata": {
    "scrolled": false
   },
   "outputs": [],
   "source": [
    "#view layers for a resistivity volume from experimental and interpolated layers\n",
    "OP=0.45 #set opacity\n",
    "SEP=3 #Set z separation between layers\n",
    "MIN=-9 #Set lower datascale range\n",
    "MAX=-1 #Set upper datascale range\n",
    "data = [\n",
    "    go.Surface(z=Re_slices[0], surfacecolor=Re_slices[0], opacity=OP, colorscale='Plasma', cauto=False, cmin=MIN, cmax=MAX),\n",
    "    go.Surface(z=Re_slices[1]+SEP, surfacecolor=Re_slices[1],  showscale=False, opacity=OP, colorscale='Plasma', cauto=False, cmin=MIN, cmax=MAX),\n",
    "    go.Surface(z=Re_slices[2]+2*SEP, surfacecolor=Re_slices[2], showscale=False, opacity=OP, colorscale='Plasma', cauto=False, cmin=MIN, cmax=MAX),\n",
    "    go.Surface(z=Re_slices[3]+3*SEP, surfacecolor=Re_slices[3], showscale=False, opacity=OP, colorscale='Plasma', cauto=False, cmin=MIN, cmax=MAX),\n",
    "    go.Surface(z=Re_slices[4]+4*SEP, surfacecolor=Re_slices[4], showscale=False, opacity=OP, colorscale='Plasma', cauto=False, cmin=MIN, cmax=MAX),\n",
    "    go.Surface(z=Re_slices[5]+5*SEP, surfacecolor=Re_slices[5], showscale=False, opacity=OP, colorscale='Plasma', cauto=False, cmin=MIN, cmax=MAX),\n",
    "    go.Surface(z=Re_slices[6]+6*SEP, surfacecolor=Re_slices[6], showscale=False, opacity=OP, colorscale='Plasma', cauto=False, cmin=MIN, cmax=MAX),\n",
    "    go.Surface(z=Re_slices[7]+7*SEP, surfacecolor=Re_slices[7], showscale=False, opacity=OP, colorscale='Plasma', cauto=False, cmin=MIN, cmax=MAX),\n",
    "    go.Surface(z=Re_slices[8]+8*SEP, surfacecolor=Re_slices[8], showscale=False, opacity=OP, colorscale='Plasma', cauto=False, cmin=MIN, cmax=MAX),\n",
    "    go.Surface(z=Re_slices[9]+9*SEP, surfacecolor=Re_slices[9], showscale=False, opacity=OP, colorscale='Plasma', cauto=False, cmin=MIN, cmax=MAX),\n",
    "    go.Surface(z=Re_slices[10]+10*SEP, surfacecolor=Re_slices[10], showscale=False, opacity=OP, colorscale='Plasma', cauto=False, cmin=MIN, cmax=MAX),\n",
    "    go.Surface(z=Re_slices[11]+11*SEP, surfacecolor=Re_slices[11], showscale=False, opacity=OP, colorscale='Plasma', cauto=False, cmin=MIN, cmax=MAX),\n",
    "    go.Surface(z=Re_slices[12]+12*SEP, surfacecolor=Re_slices[12], showscale=False, opacity=OP, colorscale='Plasma', cauto=False, cmin=MIN, cmax=MAX),\n",
    " #   go.Surface(z=Re_slices[13]+13*SEP, surfacecolor=Re_slices[13], showscale=False, opacity=OP, colorscale='Plasma', cauto=False, cmin=MIN, cmax=MAX)]\n",
    "]\n",
    "contours = {\n",
    "        \"z\": {\"show\": True, \"start\": 0.5, \"end\": 0.8, \"Rze\": 0.05}\n",
    "    },\n",
    "layout2 = go.Layout(\n",
    "             scene=dict(\n",
    "                 aspectmode='manual',\n",
    "                 aspectratio=go.layout.scene.Aspectratio(\n",
    "        x=1, y=1, z=0.4) #set aspect ratio\n",
    "             )) \n",
    "fig = go.Figure(data=data,layout=layout2)\n",
    "fig.update_layout(scene_xaxis_showticklabels=False,\n",
    "                  scene_yaxis_showticklabels=False,\n",
    "                  scene_zaxis_showticklabels=False)\n",
    "fig.show()"
   ]
  },
  {
   "cell_type": "code",
   "execution_count": null,
   "metadata": {},
   "outputs": [],
   "source": []
  }
 ],
 "metadata": {
  "kernelspec": {
   "display_name": "Python 3",
   "language": "python",
   "name": "python3"
  },
  "language_info": {
   "codemirror_mode": {
    "name": "ipython",
    "version": 3
   },
   "file_extension": ".py",
   "mimetype": "text/x-python",
   "name": "python",
   "nbconvert_exporter": "python",
   "pygments_lexer": "ipython3",
   "version": "3.7.6"
  }
 },
 "nbformat": 4,
 "nbformat_minor": 2
}
